{
 "cells": [
  {
   "cell_type": "markdown",
   "metadata": {},
   "source": [
    "# Modello CNN"
   ]
  },
  {
   "cell_type": "code",
   "execution_count": 1,
   "id": "0e41d8fc",
   "metadata": {},
   "outputs": [
    {
     "name": "stderr",
     "output_type": "stream",
     "text": [
      "/Volumes/PortableSSD/Università/FDSML/mias/.venv/lib/python3.9/site-packages/urllib3/__init__.py:35: NotOpenSSLWarning: urllib3 v2 only supports OpenSSL 1.1.1+, currently the 'ssl' module is compiled with 'LibreSSL 2.8.3'. See: https://github.com/urllib3/urllib3/issues/3020\n",
      "  warnings.warn(\n"
     ]
    }
   ],
   "source": [
    "import os\n",
    "import cv2\n",
    "import numpy as np\n",
    "import pandas as pd\n",
    "import matplotlib.pyplot as plt\n",
    "import random\n",
    "\n",
    "import tensorflow as tf\n",
    "from tensorflow.keras.models import Sequential\n",
    "from tensorflow.keras.layers import Conv2D, MaxPooling2D, Dense, Dropout, Flatten, BatchNormalization\n",
    "from tensorflow.keras.callbacks import EarlyStopping\n",
    "from sklearn.model_selection import train_test_split\n",
    "from sklearn.metrics import classification_report, roc_curve, auc\n",
    "from sklearn.preprocessing import LabelEncoder\n",
    "from sklearn.utils import compute_class_weight"
   ]
  },
  {
   "cell_type": "markdown",
   "id": "2dd0e831",
   "metadata": {},
   "source": [
    "# Definizione dei parametri\n",
    "Parametri principali usati nel progetto per riproducibilità e configurazione della rete."
   ]
  },
  {
   "cell_type": "code",
   "execution_count": 2,
   "id": "2e7ad421",
   "metadata": {},
   "outputs": [],
   "source": [
    "IMG_DIR = 'MIAS-JPEG'\n",
    "CSV_PATH = 'labels.csv'\n",
    "IMG_SIZE = 224\n",
    "EPOCHS = 10\n",
    "BATCH_SIZE = 64\n",
    "SEED = 42\n",
    "\n",
    "np.random.seed(SEED)\n",
    "tf.random.set_seed(SEED)\n",
    "random.seed(SEED)"
   ]
  },
  {
   "cell_type": "markdown",
   "id": "dd2211af",
   "metadata": {},
   "source": [
    "# Caricamento e preparazione etichette\n",
    "Carichiamo i dati dal file CSV e filtriamo i casi benigni (B) e maligni (M), mappandoli in etichette binarie."
   ]
  },
  {
   "cell_type": "code",
   "execution_count": 3,
   "id": "39bf3dde",
   "metadata": {},
   "outputs": [],
   "source": [
    "df = pd.read_csv(CSV_PATH)\n",
    "df = df[df['severity'].isin(['B', 'M'])]\n",
    "df['label'] = df['severity'].map({'B': 0, 'M': 1})\n",
    "df['filepath'] = df['filename'].apply(lambda x: os.path.join(IMG_DIR, f\"{x}.jpg\"))"
   ]
  },
  {
   "cell_type": "markdown",
   "id": "8e7dfeae",
   "metadata": {},
   "source": [
    "# Divisione in training e test set\n",
    "Utilizziamo `train_test_split` mantenendo il bilanciamento di classi (stratify)."
   ]
  },
  {
   "cell_type": "code",
   "execution_count": 4,
   "id": "a23ca9da",
   "metadata": {},
   "outputs": [],
   "source": [
    "images = []\n",
    "labels = []\n",
    "\n",
    "for i, row in df.iterrows():\n",
    "    label = row['label']\n",
    "    path = row['filepath']\n",
    "    img = cv2.imread(path, cv2.IMREAD_GRAYSCALE)\n",
    "    if img is None:\n",
    "        continue\n",
    "    img = cv2.resize(img, (IMG_SIZE, IMG_SIZE))\n",
    "    img = 255 - img\n",
    "\n",
    "    images.append(img)\n",
    "    labels.append(label)\n",
    "\n",
    "images = np.array(images)\n",
    "labels = np.array(labels)\n",
    "\n",
    "x_train_orig, x_test, y_train_orig, y_test = train_test_split(\n",
    "    images, labels, test_size=0.3, stratify=labels, random_state=SEED\n",
    ")\n",
    "\n",
    "augmented_images = []\n",
    "augmented_labels = []\n",
    "\n",
    "for img, label in zip(x_train_orig, y_train_orig):\n",
    "    rows, cols = img.shape\n",
    "\n",
    "    for angle in [0, 90, 180, 270]:\n",
    "        M = cv2.getRotationMatrix2D((cols / 2, rows / 2), angle * .3, 1) # angoli di rotazione a 1/3 che va meglio\n",
    "        rotated = cv2.warpAffine(img, M, (IMG_SIZE, IMG_SIZE))\n",
    "        augmented_images.append(rotated)\n",
    "        augmented_labels.append(label)\n",
    "\n",
    "x_train = np.array(augmented_images)\n",
    "y_train = np.array(augmented_labels)\n",
    "\n",
    "x_train = x_train.reshape(-1, IMG_SIZE, IMG_SIZE, 1).astype(np.float32) / 255.0\n",
    "x_test = x_test.reshape(-1, IMG_SIZE, IMG_SIZE, 1).astype(np.float32) / 255.0\n"
   ]
  },
  {
   "cell_type": "markdown",
   "id": "9e775a48",
   "metadata": {},
   "source": [
    "# Definizione del modello CNN\n",
    "Una semplice rete convoluzionale con tre blocchi Conv2D + MaxPooling seguiti da Dense e Dropout.\n",
    "Funzione di attivazione finale: **sigmoid**, adatta per classificazione binaria."
   ]
  },
  {
   "cell_type": "code",
   "execution_count": 5,
   "id": "63d7c000",
   "metadata": {},
   "outputs": [
    {
     "name": "stderr",
     "output_type": "stream",
     "text": [
      "/Volumes/PortableSSD/Università/FDSML/mias/.venv/lib/python3.9/site-packages/keras/src/layers/convolutional/base_conv.py:113: UserWarning: Do not pass an `input_shape`/`input_dim` argument to a layer. When using Sequential models, prefer using an `Input(shape)` object as the first layer in the model instead.\n",
      "  super().__init__(activity_regularizer=activity_regularizer, **kwargs)\n"
     ]
    }
   ],
   "source": [
    "def create_model():\n",
    "    model = Sequential()\n",
    "    model.add(Conv2D(32, (3, 3), activation='relu', input_shape=(IMG_SIZE, IMG_SIZE, 1)))\n",
    "    model.add(BatchNormalization())\n",
    "    model.add(MaxPooling2D((2, 2)))\n",
    "    model.add(Dropout(0.25))\n",
    "\n",
    "    model.add(Conv2D(64, (3, 3), activation='relu'))\n",
    "    model.add(BatchNormalization())\n",
    "    model.add(MaxPooling2D((2, 2)))\n",
    "    model.add(Dropout(0.25))\n",
    "\n",
    "    model.add(Conv2D(64, (3, 3), activation='relu'))\n",
    "    model.add(BatchNormalization())\n",
    "    model.add(MaxPooling2D((2, 2)))\n",
    "    model.add(Dropout(0.25))\n",
    "\n",
    "    model.add(Flatten())\n",
    "    model.add(Dense(64, activation='relu'))\n",
    "    model.add(Dropout(0.5))\n",
    "    model.add(Dense(1, activation='sigmoid'))\n",
    "\n",
    "    return model\n",
    "\n",
    "model = create_model()\n",
    "model.compile(optimizer='adam', loss='binary_crossentropy', metrics=['accuracy'])"
   ]
  },
  {
   "cell_type": "markdown",
   "id": "6195f818",
   "metadata": {},
   "source": [
    "# Training del modello\n",
    "Viene utilizzato `EarlyStopping` per evitare overfitting e vengono calcolati i `class_weights` per bilanciare il dataset sbilanciato."
   ]
  },
  {
   "cell_type": "code",
   "execution_count": 6,
   "id": "7dda216f",
   "metadata": {},
   "outputs": [
    {
     "name": "stdout",
     "output_type": "stream",
     "text": [
      "Class weights: {0: np.float64(0.875), 1: np.float64(1.1666666666666667)}\n",
      "Epoch 1/10\n",
      "5/5 - 9s - 2s/step - accuracy: 0.4664 - loss: 9.7052 - val_accuracy: 0.3382 - val_loss: 0.7537\n",
      "Epoch 2/10\n",
      "5/5 - 8s - 2s/step - accuracy: 0.5075 - loss: 3.3752 - val_accuracy: 0.7059 - val_loss: 2.4041\n",
      "Epoch 3/10\n",
      "5/5 - 7s - 1s/step - accuracy: 0.5224 - loss: 1.1731 - val_accuracy: 0.7059 - val_loss: 5.7640\n",
      "Epoch 4/10\n",
      "5/5 - 7s - 1s/step - accuracy: 0.5224 - loss: 0.7380 - val_accuracy: 0.7059 - val_loss: 9.6633\n",
      "Epoch 5/10\n",
      "5/5 - 7s - 1s/step - accuracy: 0.5560 - loss: 0.6535 - val_accuracy: 0.7059 - val_loss: 13.3622\n",
      "Epoch 6/10\n",
      "5/5 - 7s - 1s/step - accuracy: 0.5485 - loss: 0.6248 - val_accuracy: 0.7059 - val_loss: 16.2553\n"
     ]
    }
   ],
   "source": [
    "early_stop = EarlyStopping(monitor='val_loss', patience=5, restore_best_weights=True)\n",
    "class_weights = compute_class_weight(class_weight='balanced', classes=np.unique(y_train), y=y_train)\n",
    "class_weights = dict(enumerate(class_weights))\n",
    "print(\"Class weights:\", class_weights)\n",
    "\n",
    "history = model.fit(\n",
    "    x_train, y_train,\n",
    "    validation_split=0.2,\n",
    "    epochs=EPOCHS,\n",
    "    batch_size=BATCH_SIZE,\n",
    "    callbacks=[early_stop],\n",
    "    verbose=2,\n",
    "    class_weight=class_weights\n",
    ")"
   ]
  },
  {
   "cell_type": "markdown",
   "id": "707c716b",
   "metadata": {},
   "source": [
    "# Valutazione del modello\n",
    "Calcoliamo accuracy, loss e stampiamo un report"
   ]
  },
  {
   "cell_type": "code",
   "execution_count": 7,
   "id": "e09ebee9",
   "metadata": {},
   "outputs": [
    {
     "name": "stdout",
     "output_type": "stream",
     "text": [
      "\u001b[1m2/2\u001b[0m \u001b[32m━━━━━━━━━━━━━━━━━━━━\u001b[0m\u001b[37m\u001b[0m \u001b[1m0s\u001b[0m 68ms/step - accuracy: 0.3738 - loss: 0.7418\n",
      "\n",
      "Test Loss: 0.7373\n",
      "Test Accuracy: 0.3889\n",
      "\u001b[1m2/2\u001b[0m \u001b[32m━━━━━━━━━━━━━━━━━━━━\u001b[0m\u001b[37m\u001b[0m \u001b[1m0s\u001b[0m 72ms/step\n",
      "REPORT:\n",
      "              precision    recall  f1-score   support\n",
      "\n",
      "     Benigno       0.64      0.43      0.51        21\n",
      "     Maligno       0.45      0.67      0.54        15\n",
      "\n",
      "    accuracy                           0.53        36\n",
      "   macro avg       0.55      0.55      0.53        36\n",
      "weighted avg       0.56      0.53      0.53        36\n",
      "\n"
     ]
    }
   ],
   "source": [
    "loss_value, accuracy = model.evaluate(x_test, y_test)\n",
    "print(f\"\\nTest Loss: {loss_value:.4f}\")\n",
    "print(f\"Test Accuracy: {accuracy:.4f}\")\n",
    "\n",
    "y_pred_proba = model.predict(x_test).flatten()\n",
    "y_pred = 1 - ((y_pred_proba > 0.58).astype(int))\n",
    "\n",
    "print(\"REPORT:\")\n",
    "print(classification_report(y_test, y_pred, target_names=['Benigno', 'Maligno']))"
   ]
  },
  {
   "cell_type": "code",
   "execution_count": null,
   "id": "9ffdfb4a",
   "metadata": {},
   "outputs": [],
   "source": []
  }
 ],
 "metadata": {
  "kernelspec": {
   "display_name": ".venv",
   "language": "python",
   "name": "python3"
  },
  "language_info": {
   "codemirror_mode": {
    "name": "ipython",
    "version": 3
   },
   "file_extension": ".py",
   "mimetype": "text/x-python",
   "name": "python",
   "nbconvert_exporter": "python",
   "pygments_lexer": "ipython3",
   "version": "3.9.6"
  }
 },
 "nbformat": 4,
 "nbformat_minor": 5
}
