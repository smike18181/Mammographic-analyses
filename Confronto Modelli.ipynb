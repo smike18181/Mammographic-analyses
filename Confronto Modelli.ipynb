{
 "cells": [
  {
   "cell_type": "code",
   "id": "4a9690431a8b172f",
   "metadata": {
    "ExecuteTime": {
     "end_time": "2025-07-23T09:34:54.269854Z",
     "start_time": "2025-07-23T09:34:54.255481Z"
    }
   },
   "source": [
    "import pandas as pd\n",
    "import numpy as np\n",
    "import matplotlib.pyplot as plt\n",
    "from sklearn.model_selection import train_test_split, cross_val_score\n",
    "from sklearn.preprocessing import StandardScaler, OneHotEncoder\n",
    "from sklearn.compose import ColumnTransformer\n",
    "from sklearn.pipeline import Pipeline\n",
    "from sklearn.ensemble import RandomForestClassifier, VotingClassifier\n",
    "from sklearn.linear_model import LogisticRegression\n",
    "from sklearn.svm import SVC\n",
    "from sklearn.metrics import accuracy_score, classification_report, confusion_matrix\n",
    "\n",
    "df = pd.read_csv(\"../mammografie.csv\")"
   ],
   "outputs": [],
   "execution_count": 6
  },
  {
   "metadata": {},
   "cell_type": "markdown",
   "source": "Aggiunta Feature",
   "id": "97fbeeda59df09a0"
  },
  {
   "metadata": {
    "ExecuteTime": {
     "end_time": "2025-07-23T09:34:54.284137Z",
     "start_time": "2025-07-23T09:34:54.274095Z"
    }
   },
   "cell_type": "code",
   "source": [
    "df = df.dropna(subset=['Severity', 'X', 'Y', 'Radius'])\n",
    "df['Target'] = df['Severity'].map({'B': 0, 'M': 1})\n",
    "df['X'] = pd.to_numeric(df['X'], errors='coerce')\n",
    "df['Y'] = pd.to_numeric(df['Y'], errors='coerce')\n",
    "df = df.dropna(subset=['X', 'Y'])\n",
    "\n",
    "df['Area'] = np.pi * (df['Radius'] ** 2)\n",
    "df['DistanzaCentro'] = np.sqrt((df['X'] - 512)**2 + (df['Y'] - 512)**2)\n",
    "df['RadiusBin'] = pd.qcut(df['Radius'], q=5, labels=['XS', 'S', 'M', 'L', 'XL'])\n",
    "\n",
    "def quadrante(row):\n",
    "    if row['X'] < 512 and row['Y'] < 512:\n",
    "        return 'Q0'\n",
    "    elif row['X'] >= 512 and row['Y'] < 512:\n",
    "        return 'Q1'\n",
    "    elif row['X'] < 512 and row['Y'] >= 512:\n",
    "        return 'Q2'\n",
    "    else:\n",
    "        return 'Q3'\n",
    "df['Quadrante'] = df.apply(quadrante, axis=1)\n",
    "\n",
    "X = df[['Tissue', 'Class', 'Area', 'DistanzaCentro', 'Quadrante', 'RadiusBin']]\n",
    "y = df['Target']"
   ],
   "id": "792dfe39187eb288",
   "outputs": [],
   "execution_count": 7
  },
  {
   "metadata": {
    "ExecuteTime": {
     "end_time": "2025-07-23T09:34:54.354187Z",
     "start_time": "2025-07-23T09:34:54.350505Z"
    }
   },
   "cell_type": "code",
   "source": [
    "\n",
    "X_train, X_test, y_train, y_test = train_test_split(X, y, stratify=y, test_size=0.2, random_state=42)\n",
    "\n",
    "numeric_features = ['Area', 'DistanzaCentro']\n",
    "categorical_features = ['Tissue', 'Class', 'Quadrante', 'RadiusBin']\n",
    "\n",
    "preprocessor = ColumnTransformer(transformers=[\n",
    "    ('num', StandardScaler(), numeric_features),\n",
    "    ('cat', OneHotEncoder(handle_unknown='ignore'), categorical_features)\n",
    "])\n",
    "\n",
    "\n",
    "models = {\n",
    "    'SVC': SVC(probability=True, random_state=42),\n",
    "    'RandomForest': RandomForestClassifier(n_estimators=100, random_state=42),\n",
    "    'LogisticRegression': LogisticRegression(max_iter=1000, random_state=42),\n",
    "}"
   ],
   "id": "48eb07d172201382",
   "outputs": [],
   "execution_count": 8
  },
  {
   "metadata": {
    "ExecuteTime": {
     "end_time": "2025-07-23T09:34:54.413046Z",
     "start_time": "2025-07-23T09:34:54.411300Z"
    }
   },
   "cell_type": "code",
   "source": [
    "\n",
    "#Pipeline per ciascun modello\n",
    "pipelines = {name: Pipeline([\n",
    "    ('preprocessor', preprocessor),\n",
    "    ('classifier', model)\n",
    "]) for name, model in models.items()}\n",
    "\n",
    "# VotingClassifier\n",
    "voting_clf = VotingClassifier(estimators=[\n",
    "    ('svc', pipelines['SVC']),\n",
    "    ('rf', pipelines['RandomForest']),\n",
    "    ('lr', pipelines['LogisticRegression']),\n",
    "], voting='soft')\n",
    "\n",
    "pipelines['VotingClassifier'] = voting_clf"
   ],
   "id": "bacd1b33e0935574",
   "outputs": [],
   "execution_count": 9
  },
  {
   "metadata": {},
   "cell_type": "markdown",
   "source": "Addestramento e valutazione",
   "id": "3457b77f10407a23"
  },
  {
   "metadata": {},
   "cell_type": "code",
   "source": [
    "\n",
    "results = []\n",
    "\n",
    "for name, pipe in pipelines.items():\n",
    "    print(f\"\\n🔍 ===== {name} =====\")\n",
    "    pipe.fit(X_train, y_train)\n",
    "    y_pred = pipe.predict(X_test)\n",
    "\n",
    "    acc = accuracy_score(y_test, y_pred)\n",
    "    conf = confusion_matrix(y_test, y_pred)\n",
    "    report = classification_report(y_test, y_pred, target_names=['Benigno', 'Maligno'], output_dict=True)\n",
    "    print(\"🎯 Accuracy:\", acc)\n",
    "    print(\"📊 Confusion Matrix:\\n\", conf)\n",
    "    print(\"📋 Classification Report:\\n\", classification_report(y_test, y_pred, target_names=['Benigno', 'Maligno']))\n",
    "\n",
    "    scores = cross_val_score(pipe, X, y, cv=10, scoring='accuracy')\n",
    "    print(f\"📈 Cross-validated Accuracy (10-fold): {scores.mean():.3f} ± {scores.std():.3f}\")\n",
    "\n",
    "    results.append({\n",
    "        'Model': name,\n",
    "        'Accuracy_Test': acc,\n",
    "        'Recall_Maligno': report['Maligno']['recall'],\n",
    "        'Precision_Benigno': report['Benigno']['precision'],\n",
    "        'CrossVal_Mean': scores.mean(),\n",
    "        'CrossVal_Std': scores.std()\n",
    "    })\n",
    "\n",
    "results_df = pd.DataFrame(results)\n",
    "print(\"\\n📊 Tabella comparativa modelli:\")\n",
    "print(results_df)"
   ],
   "id": "c1d8dacc22056af2",
   "outputs": [],
   "execution_count": null
  },
  {
   "metadata": {},
   "cell_type": "markdown",
   "source": "Barplot comparativo accuracies",
   "id": "450c8b9a53dfcecc"
  },
  {
   "metadata": {
    "collapsed": true,
    "ExecuteTime": {
     "end_time": "2025-07-23T09:34:55.714535Z",
     "start_time": "2025-07-23T09:34:54.471027Z"
    }
   },
   "cell_type": "code",
   "outputs": [
    {
     "name": "stdout",
     "output_type": "stream",
     "text": [
      "\n",
      "🔍 ===== SVC =====\n",
      "🎯 Accuracy: 0.75\n",
      "📊 Confusion Matrix:\n",
      " [[10  4]\n",
      " [ 2  8]]\n",
      "📋 Classification Report:\n",
      "               precision    recall  f1-score   support\n",
      "\n",
      "     Benigno       0.83      0.71      0.77        14\n",
      "     Maligno       0.67      0.80      0.73        10\n",
      "\n",
      "    accuracy                           0.75        24\n",
      "   macro avg       0.75      0.76      0.75        24\n",
      "weighted avg       0.76      0.75      0.75        24\n",
      "\n",
      "📈 Cross-validated Accuracy (10-fold): 0.545 ± 0.138\n",
      "\n",
      "🔍 ===== RandomForest =====\n",
      "🎯 Accuracy: 0.6666666666666666\n",
      "📊 Confusion Matrix:\n",
      " [[8 6]\n",
      " [2 8]]\n",
      "📋 Classification Report:\n",
      "               precision    recall  f1-score   support\n",
      "\n",
      "     Benigno       0.80      0.57      0.67        14\n",
      "     Maligno       0.57      0.80      0.67        10\n",
      "\n",
      "    accuracy                           0.67        24\n",
      "   macro avg       0.69      0.69      0.67        24\n",
      "weighted avg       0.70      0.67      0.67        24\n",
      "\n",
      "📈 Cross-validated Accuracy (10-fold): 0.521 ± 0.097\n",
      "\n",
      "🔍 ===== LogisticRegression =====\n",
      "🎯 Accuracy: 0.5833333333333334\n",
      "📊 Confusion Matrix:\n",
      " [[7 7]\n",
      " [3 7]]\n",
      "📋 Classification Report:\n",
      "               precision    recall  f1-score   support\n",
      "\n",
      "     Benigno       0.70      0.50      0.58        14\n",
      "     Maligno       0.50      0.70      0.58        10\n",
      "\n",
      "    accuracy                           0.58        24\n",
      "   macro avg       0.60      0.60      0.58        24\n",
      "weighted avg       0.62      0.58      0.58        24\n",
      "\n",
      "📈 Cross-validated Accuracy (10-fold): 0.580 ± 0.084\n",
      "\n",
      "🔍 ===== VotingClassifier =====\n",
      "🎯 Accuracy: 0.5416666666666666\n",
      "📊 Confusion Matrix:\n",
      " [[8 6]\n",
      " [5 5]]\n",
      "📋 Classification Report:\n",
      "               precision    recall  f1-score   support\n",
      "\n",
      "     Benigno       0.62      0.57      0.59        14\n",
      "     Maligno       0.45      0.50      0.48        10\n",
      "\n",
      "    accuracy                           0.54        24\n",
      "   macro avg       0.53      0.54      0.53        24\n",
      "weighted avg       0.55      0.54      0.54        24\n",
      "\n",
      "📈 Cross-validated Accuracy (10-fold): 0.571 ± 0.087\n",
      "\n",
      "📊 Tabella comparativa modelli:\n",
      "                Model  Accuracy_Test  Recall_Maligno  Precision_Benigno  \\\n",
      "0                 SVC       0.750000             0.8           0.833333   \n",
      "1        RandomForest       0.666667             0.8           0.800000   \n",
      "2  LogisticRegression       0.583333             0.7           0.700000   \n",
      "3    VotingClassifier       0.541667             0.5           0.615385   \n",
      "\n",
      "   CrossVal_Mean  CrossVal_Std  \n",
      "0       0.545455      0.137746  \n",
      "1       0.521212      0.097360  \n",
      "2       0.579545      0.084105  \n",
      "3       0.571212      0.087381  \n"
     ]
    },
    {
     "data": {
      "text/plain": [
       "<Figure size 1000x600 with 1 Axes>"
      ],
      "image/png": "[encoded data removed]"
     },
     "metadata": {},
     "output_type": "display_data"
    }
   ],
   "execution_count": 10,
   "source": [
    "\n",
    "plt.figure(figsize=(10, 6))\n",
    "bars = plt.bar(results_df['Model'], results_df['Accuracy_Test'],\n",
    "               yerr=results_df['CrossVal_Std'], capsize=8, color='skyblue')\n",
    "\n",
    "plt.ylim(0, 1)\n",
    "plt.ylabel('Accuracy')\n",
    "plt.title('Accuracy su Test Set con deviazione standard (CV)')\n",
    "for bar, acc in zip(bars, results_df['Accuracy_Test']):\n",
    "    yval = bar.get_height()\n",
    "    plt.text(bar.get_x() + bar.get_width()/2.0, yval + 0.02, f'{acc:.2f}', ha='center')\n",
    "\n",
    "plt.grid(axis='y', linestyle='--', alpha=0.7)\n",
    "plt.tight_layout()\n",
    "plt.show()"
   ],
   "id": "initial_id"
  }
 ],
 "metadata": {
  "kernelspec": {
   "display_name": "Python 3",
   "language": "python",
   "name": "python3"
  },
  "language_info": {
   "codemirror_mode": {
    "name": "ipython",
    "version": 2
   },
   "file_extension": ".py",
   "mimetype": "text/x-python",
   "name": "python",
   "nbconvert_exporter": "python",
   "pygments_lexer": "ipython2",
   "version": "2.7.6"
  }
 },
 "nbformat": 4,
 "nbformat_minor": 5
}
